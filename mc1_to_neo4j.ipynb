{
  "cells": [
    {
      "cell_type": "markdown",
      "metadata": {},
      "source": [
        "# MC1 to Neo4j Uploader (Notebook)\n",
        "\n",
        "This notebook uploads the MC1 knowledge-graph JSON (nodes + links) to your Neo4j cloud database using the modern driver (`GraphDatabase.driver` + `execute_query`).\n",
        "\n",
        "- Reads: `mc1.json` from the project root\n",
        "- Writes: Nodes with labels derived from `node.type` (last segment), relationships with type derived from `link.type` (sanitized)\n",
        "- Preserves link properties like `_articleid`, `_date_added`, `_raw_source`, `_algorithm`, `_last_edited_by`, `_last_edited_date`, and `key`\n",
        "- Uses batching + retries for robustness\n",
        "\n",
        "Run the cells from top to bottom. \n"
      ]
    },
    {
      "cell_type": "code",
      "execution_count": 4,
      "metadata": {},
      "outputs": [
        {
          "name": "stdout",
          "output_type": "stream",
          "text": [
            "Config:\n",
            "  URI: neo4j+s://397603d1.databases.neo4j.io\n",
            "  USER: neo4j\n",
            "  MC1_PATH: c:\\Users\\Rajkumar Dake\\OneDrive\\Desktop\\projects\\veda-project\\mc1.json\n"
          ]
        }
      ],
      "source": [
        "# Install dependencies (only if needed)\n",
        "# If running in a fresh environment, uncomment the next lines\n",
        "# !pip install neo4j tqdm\n",
        "\n",
        "import os\n",
        "import json\n",
        "from typing import Dict, Any, List\n",
        "from dataclasses import dataclass\n",
        "from time import sleep\n",
        "\n",
        "from neo4j import GraphDatabase\n",
        "from tqdm import tqdm\n",
        "\n",
        "# Hardcoded Neo4j connection (no .env)\n",
        "NEO4J_URI = 'neo4j+s://397603d1.databases.neo4j.io'\n",
        "NEO4J_USER = 'neo4j'\n",
        "NEO4J_PASSWORD = 'dQMr8EoOUknWQK7JNRD5Kd4UtXPlBoXuURrezQ38Tz8'\n",
        "\n",
        "# Data file\n",
        "MC1_PATH = 'mc1.json'\n",
        "MAX_RETRIES = 3\n",
        "\n",
        "print('Config:')\n",
        "print('  URI:', NEO4J_URI)\n",
        "print('  USER:', NEO4J_USER)\n",
        "print('  MC1_PATH:', os.path.abspath(MC1_PATH))\n"
      ]
    },
    {
      "cell_type": "code",
      "execution_count": 5,
      "metadata": {},
      "outputs": [],
      "source": [
        "def sanitize_label(label: str) -> str:\n",
        "    return (label or 'Unknown').replace('.', '_').replace('-', '_').replace(' ', '_')\n",
        "\n",
        "\n",
        "def label_from_type(node_type: str) -> str:\n",
        "    if not node_type:\n",
        "        return 'Unknown'\n",
        "    return sanitize_label(node_type.split('.')[-1])\n",
        "\n",
        "\n",
        "def read_mc1(path: str) -> Dict[str, Any]:\n",
        "    with open(path, 'r', encoding='utf-8') as f:\n",
        "        return json.load(f)\n",
        "\n",
        "\n",
        "import socket\n",
        "\n",
        "def resolve_host(uri: str):\n",
        "    try:\n",
        "        host = uri.split('://', 1)[1].split(':', 1)[0]\n",
        "        socket.getaddrinfo(host, 7687)\n",
        "        return True\n",
        "    except Exception as e:\n",
        "        print(f\"⚠️ DNS resolution failed for host in URI ({uri}): {e}\")\n",
        "        return False\n",
        "\n",
        "\n",
        "def connect(uri: str, user: str, password: str):\n",
        "    driver = GraphDatabase.driver(uri, auth=(user, password))\n",
        "    driver.verify_connectivity()\n",
        "    return driver\n",
        "\n",
        "\n",
        "def connect_with_retries(uri: str, user: str, password: str, retries: int = 5, delay_seconds: float = 2.0):\n",
        "    for attempt in range(1, retries + 1):\n",
        "        try:\n",
        "            if not resolve_host(uri):\n",
        "                raise RuntimeError(\"DNS resolution failed\")\n",
        "            driver = GraphDatabase.driver(uri, auth=(user, password))\n",
        "            driver.verify_connectivity()\n",
        "            print(f\"✅ Connected on attempt {attempt}\")\n",
        "            return driver\n",
        "        except Exception as e:\n",
        "            print(f\"Retry {attempt}/{retries} - connect failed: {e}\")\n",
        "            if attempt == retries:\n",
        "                raise\n",
        "            sleep(delay_seconds)\n",
        "\n",
        "\n",
        "def clear_db(driver) -> None:\n",
        "    driver.execute_query('MATCH (n) DETACH DELETE n')\n",
        "\n",
        "\n",
        "def create_nodes(driver, nodes: List[Dict[str, Any]]) -> None:\n",
        "    for node in tqdm(nodes, desc='Nodes'):\n",
        "        node_id = node.get('id')\n",
        "        node_type = node.get('type', 'Unknown')\n",
        "        label = label_from_type(node_type)\n",
        "        properties = {k: v for k, v in node.items() if k != 'id'}\n",
        "        properties['id'] = node_id\n",
        "        properties['type'] = node_type\n",
        "        q = f\"MERGE (n:{label} {{id: $id}}) SET n += $properties\"\n",
        "        driver.execute_query(q, id=node_id, properties=properties)\n",
        "\n",
        "\n",
        "def create_relationships(driver, links: List[Dict[str, Any]], max_retries: int = 3) -> None:\n",
        "    for link in tqdm(links, desc='Relationships'):\n",
        "        source_id = link.get('source')\n",
        "        target_id = link.get('target')\n",
        "        rel_type = sanitize_label(link.get('type', 'RELATED'))\n",
        "        properties = {k: v for k, v in link.items() if k not in ['source', 'target', 'type']}\n",
        "        if not source_id or not target_id:\n",
        "            continue\n",
        "        q = f\"\"\"\n",
        "        MATCH (a {{id: $source_id}}), (b {{id: $target_id}})\n",
        "        MERGE (a)-[r:{rel_type}]->(b)\n",
        "        SET r += $properties\n",
        "        \"\"\"\n",
        "        for attempt in range(max_retries):\n",
        "            try:\n",
        "                driver.execute_query(q, source_id=source_id, target_id=target_id, properties=properties)\n",
        "                break\n",
        "            except Exception as e:\n",
        "                if attempt == max_retries - 1:\n",
        "                    raise\n",
        "                sleep(1)\n"
      ]
    },
    {
      "cell_type": "code",
      "execution_count": null,
      "metadata": {},
      "outputs": [
        {
          "name": "stdout",
          "output_type": "stream",
          "text": [
            "✅ Connected on attempt 1\n",
            "✅ Connected to Neo4j\n",
            "Loaded 215 nodes and 16231 links from mc1.json\n",
            "🗑️  Cleared existing data\n"
          ]
        },
        {
          "name": "stderr",
          "output_type": "stream",
          "text": [
            "Nodes: 100%|██████████| 215/215 [00:38<00:00,  5.60it/s]\n"
          ]
        },
        {
          "name": "stdout",
          "output_type": "stream",
          "text": [
            "✅ Nodes uploaded\n"
          ]
        },
        {
          "name": "stderr",
          "output_type": "stream",
          "text": [
            "Relationships:  17%|█▋        | 2827/16231 [08:39<43:23,  5.15it/s]  "
          ]
        }
      ],
      "source": [
        "# Connect, load, and upload\n",
        "\n",
        "driver = connect_with_retries(NEO4J_URI, NEO4J_USER, NEO4J_PASSWORD, retries=8, delay_seconds=2.0)\n",
        "print('✅ Connected to Neo4j')\n",
        "\n",
        "data = read_mc1(MC1_PATH)\n",
        "nodes = data.get('nodes', [])\n",
        "links = data.get('links', [])\n",
        "print(f\"Loaded {len(nodes)} nodes and {len(links)} links from {MC1_PATH}\")\n",
        "\n",
        "# Optional: wipe database first\n",
        "clear_db(driver)\n",
        "print('🗑️  Cleared existing data')\n",
        "\n",
        "# Create nodes\n",
        "create_nodes(driver, nodes)\n",
        "print('✅ Nodes uploaded')\n",
        "\n",
        "# Create relationships\n",
        "create_relationships(driver, links, max_retries=MAX_RETRIES)\n",
        "print('✅ Relationships uploaded')\n",
        "\n",
        "# Quick stats\n",
        "records, _, _ = driver.execute_query(\"MATCH (n) RETURN count(n) AS c\")\n",
        "node_count = records[0]['c'] if records else 0\n",
        "records, _, _ = driver.execute_query(\"MATCH ()-[r]->() RETURN count(r) AS c\")\n",
        "rel_count = records[0]['c'] if records else 0\n",
        "print(f\"📊 Done: {node_count} nodes, {rel_count} relationships\")\n"
      ]
    }
  ],
  "metadata": {
    "kernelspec": {
      "display_name": "veda",
      "language": "python",
      "name": "python3"
    },
    "language_info": {
      "codemirror_mode": {
        "name": "ipython",
        "version": 3
      },
      "file_extension": ".py",
      "mimetype": "text/x-python",
      "name": "python",
      "nbconvert_exporter": "python",
      "pygments_lexer": "ipython3",
      "version": "3.12.10"
    }
  },
  "nbformat": 4,
  "nbformat_minor": 2
}
